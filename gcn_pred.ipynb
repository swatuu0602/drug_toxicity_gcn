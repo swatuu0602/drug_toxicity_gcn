import deepchem as dc
from deepchem.models import GCNModel

# Load the Tox21 dataset
tasks, datasets, transformers = dc.molnet.load_tox21()
train_dataset, valid_dataset, test_dataset = datasets

# Define and train the GCN model
model = GCNModel(
    n_tasks=len(tasks),
    mode='classification',
    batch_size=50,
    learning_rate=0.001
)

# Train the model
model.fit(train_dataset, nb_epoch=10)

# Evaluate the model
metric = dc.metrics.Metric(dc.metrics.roc_auc_score, np.mean)
train_score = model.evaluate(train_dataset, [metric], transformers)
valid_score = model.evaluate(valid_dataset, [metric], transformers)
test_score = model.evaluate(test_dataset, [metric], transformers)

print(f'Train ROC-AUC Score: {train_score["mean-roc_auc_score"]:.4f}')
print(f'Validation ROC-AUC Score: {valid_score["mean-roc_auc_score"]:.4f}')
print(f'Test ROC-AUC Score: {test_score["mean-roc_auc_score"]:.4f}')
